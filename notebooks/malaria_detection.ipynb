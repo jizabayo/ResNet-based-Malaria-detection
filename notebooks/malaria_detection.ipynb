{
  "nbformat": 4,
  "nbformat_minor": 0,
  "metadata": {
    "colab": {
      "name": "malaria_detection.ipynb",
      "provenance": [],
      "collapsed_sections": []
    },
    "kernelspec": {
      "name": "python3",
      "display_name": "Python 3"
    },
    "language_info": {
      "name": "python"
    }
  },
  "cells": [
    {
      "cell_type": "markdown",
      "metadata": {
        "id": "1O9X5oKlQd_l"
      },
      "source": [
        "## Importing the data"
      ]
    },
    {
      "cell_type": "code",
      "metadata": {
        "colab": {
          "base_uri": "https://localhost:8080/"
        },
        "id": "5_hpoEY9Puh8",
        "outputId": "cd091992-2f6c-4461-d16f-f7fe2eddfdf9"
      },
      "source": [
        "from google.colab import drive\n",
        "drive.mount('/content/gdrive')"
      ],
      "execution_count": null,
      "outputs": [
        {
          "output_type": "stream",
          "name": "stdout",
          "text": [
            "Mounted at /content/gdrive\n"
          ]
        }
      ]
    },
    {
      "cell_type": "code",
      "metadata": {
        "id": "v6f4buNeRQ0u"
      },
      "source": [
        "import os\n",
        "os.chdir('/content/gdrive/My Drive/DL/Malaria')"
      ],
      "execution_count": null,
      "outputs": []
    },
    {
      "cell_type": "code",
      "metadata": {
        "id": "mmp81lgKUspt"
      },
      "source": [
        "#!unzip -q \"Data.zip\""
      ],
      "execution_count": null,
      "outputs": []
    },
    {
      "cell_type": "markdown",
      "metadata": {
        "id": "ZYj4IafnVB2v"
      },
      "source": [
        "## Importing the libraries"
      ]
    },
    {
      "cell_type": "code",
      "metadata": {
        "id": "L1BH-b0IVQOz"
      },
      "source": [
        "import numpy as np\n",
        "import pandas as pd"
      ],
      "execution_count": null,
      "outputs": []
    },
    {
      "cell_type": "code",
      "metadata": {
        "id": "w-r68zXWndWy"
      },
      "source": [
        "test_data_path = 'cell_images/test'\n",
        "train_data_path = 'cell_images/train'"
      ],
      "execution_count": null,
      "outputs": []
    }
  ]
}